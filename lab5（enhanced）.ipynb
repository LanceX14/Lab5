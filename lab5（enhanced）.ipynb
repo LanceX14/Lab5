{
 "cells": [
  {
   "cell_type": "code",
   "execution_count": 2,
   "id": "appropriate-helping",
   "metadata": {},
   "outputs": [
    {
     "name": "stdin",
     "output_type": "stream",
     "text": [
      "Please input your name!  lance\n",
      "Your age please!  19\n",
      "what's your job??  student\n"
     ]
    },
    {
     "name": "stdout",
     "output_type": "stream",
     "text": [
      "lance who is 19 is a student\n"
     ]
    },
    {
     "name": "stdin",
     "output_type": "stream",
     "text": [
      "your BFF name? marshall\n",
      "his/her age? 19\n",
      "his/her job? student\n"
     ]
    },
    {
     "name": "stdout",
     "output_type": "stream",
     "text": [
      "marshall who is 19 is a student\n",
      "what a coincidence! You guys are same age!\n",
      "what a coincidence! You guys have same job\n"
     ]
    }
   ],
   "source": [
    "name = input(\"Please input your name! \")\n",
    "age = input(\"Your age please! \")\n",
    "job = input(\"what's your job?? \")\n",
    "print(name+\" who is \"+age+\" is a \"+job)\n",
    "namer = input(\"your BFF name?\")\n",
    "ager = input(\"his/her age?\")\n",
    "jobr = input(\"his/her job?\")\n",
    "print(namer+\" who is \"+ager+\" is a \"+jobr)\n",
    "if(age==ager):\n",
    "    print(\"what a coincidence! You guys are same age!\")\n",
    "if(job == jobr):\n",
    "    print(\"what a coincidence! You guys have same job\")"
   ]
  },
  {
   "cell_type": "code",
   "execution_count": null,
   "id": "adequate-monaco",
   "metadata": {},
   "outputs": [],
   "source": []
  }
 ],
 "metadata": {
  "kernelspec": {
   "display_name": "Python 3",
   "language": "python",
   "name": "python3"
  },
  "language_info": {
   "codemirror_mode": {
    "name": "ipython",
    "version": 3
   },
   "file_extension": ".py",
   "mimetype": "text/x-python",
   "name": "python",
   "nbconvert_exporter": "python",
   "pygments_lexer": "ipython3",
   "version": "3.8.5"
  }
 },
 "nbformat": 4,
 "nbformat_minor": 5
}
